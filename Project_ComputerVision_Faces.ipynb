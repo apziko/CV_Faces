{
  "nbformat": 4,
  "nbformat_minor": 0,
  "metadata": {
    "colab": {
      "provenance": [],
      "collapsed_sections": [],
      "include_colab_link": true
    },
    "kernelspec": {
      "name": "python3",
      "display_name": "Python 3"
    },
    "language_info": {
      "name": "python"
    },
    "accelerator": "GPU"
  },
  "cells": [
    {
      "cell_type": "markdown",
      "metadata": {
        "id": "view-in-github",
        "colab_type": "text"
      },
      "source": [
        "<a href=\"https://colab.research.google.com/github/apziko/CV_Faces/blob/main/Project_ComputerVision_Faces.ipynb\" target=\"_parent\"><img src=\"https://colab.research.google.com/assets/colab-badge.svg\" alt=\"Open In Colab\"/></a>"
      ]
    },
    {
      "cell_type": "code",
      "execution_count": null,
      "metadata": {
        "id": "mgwzAwDh8hvx"
      },
      "outputs": [],
      "source": []
    },
    {
      "cell_type": "code",
      "source": [
        "!pip install opendatasets"
      ],
      "metadata": {
        "colab": {
          "base_uri": "https://localhost:8080/"
        },
        "id": "DgeGT6vodn7n",
        "outputId": "79c25dfd-fe67-4ef5-a552-0eb406dbb8e4"
      },
      "execution_count": null,
      "outputs": [
        {
          "output_type": "stream",
          "name": "stdout",
          "text": [
            "Looking in indexes: https://pypi.org/simple, https://us-python.pkg.dev/colab-wheels/public/simple/\n",
            "Collecting opendatasets\n",
            "  Downloading opendatasets-0.1.22-py3-none-any.whl (15 kB)\n",
            "Requirement already satisfied: tqdm in /usr/local/lib/python3.7/dist-packages (from opendatasets) (4.64.1)\n",
            "Requirement already satisfied: kaggle in /usr/local/lib/python3.7/dist-packages (from opendatasets) (1.5.12)\n",
            "Requirement already satisfied: click in /usr/local/lib/python3.7/dist-packages (from opendatasets) (7.1.2)\n",
            "Requirement already satisfied: python-slugify in /usr/local/lib/python3.7/dist-packages (from kaggle->opendatasets) (6.1.2)\n",
            "Requirement already satisfied: python-dateutil in /usr/local/lib/python3.7/dist-packages (from kaggle->opendatasets) (2.8.2)\n",
            "Requirement already satisfied: six>=1.10 in /usr/local/lib/python3.7/dist-packages (from kaggle->opendatasets) (1.15.0)\n",
            "Requirement already satisfied: certifi in /usr/local/lib/python3.7/dist-packages (from kaggle->opendatasets) (2022.6.15)\n",
            "Requirement already satisfied: urllib3 in /usr/local/lib/python3.7/dist-packages (from kaggle->opendatasets) (1.24.3)\n",
            "Requirement already satisfied: requests in /usr/local/lib/python3.7/dist-packages (from kaggle->opendatasets) (2.23.0)\n",
            "Requirement already satisfied: text-unidecode>=1.3 in /usr/local/lib/python3.7/dist-packages (from python-slugify->kaggle->opendatasets) (1.3)\n",
            "Requirement already satisfied: idna<3,>=2.5 in /usr/local/lib/python3.7/dist-packages (from requests->kaggle->opendatasets) (2.10)\n",
            "Requirement already satisfied: chardet<4,>=3.0.2 in /usr/local/lib/python3.7/dist-packages (from requests->kaggle->opendatasets) (3.0.4)\n",
            "Installing collected packages: opendatasets\n",
            "Successfully installed opendatasets-0.1.22\n"
          ]
        }
      ]
    },
    {
      "cell_type": "code",
      "source": [
        "import pandas as pd\n",
        "import opendatasets as od\n",
        "import tensorflow as tf\n",
        "from keras.preprocessing.image import ImageDataGenerator, array_to_img, img_to_array, load_img\n",
        "import matplotlib.pyplot as plt\n",
        "import numpy as np\n",
        "from tensorflow.keras.utils import to_categorical\n",
        "from tensorflow import keras\n",
        "\n",
        "\n",
        "\n",
        "# import cv2    \n",
        "# import seaborn as sns\n",
        "# from sklearn.metrics import f1_score\n",
        "\n",
        "# from keras.applications.inception_v3 import InceptionV3, preprocess_input\n",
        "# from keras import optimizers\n",
        "# from keras.models import Sequential, Model \n",
        "# from keras.layers import Dropout, Flatten, Dense\n",
        "# from keras.callbacks import ModelCheckpoint\n",
        "# from keras.utils import np_utils\n",
        "# from tensorflow.keras.optimizers import SGD\n",
        "# from keras import regularizers\n",
        "# from keras.layers import Conv2D, Flatten, MaxPooling1D, BatchNormalization\n",
        "# from keras.layers import GlobalAveragePooling2D\n",
        "# from keras.callbacks import EarlyStopping, ModelCheckpoint, ReduceLROnPlateau\n",
        "# from IPython.core.display import display, HTML\n",
        "# from PIL import Image\n",
        "# from io import BytesIO\n",
        "# import os\n",
        "# import base64\n",
        "# from keras.applications.xception import Xception\n",
        "# plt.style.use('ggplot')\n",
        "# from tensorflow import keras\n",
        "# import tensorflow as tf\n",
        "\n",
        "%matplotlib inline\n"
      ],
      "metadata": {
        "id": "d7X5IKno_QCi"
      },
      "execution_count": null,
      "outputs": []
    },
    {
      "cell_type": "code",
      "source": [
        "od.download('kaggle.com/datasets/jessicali9530/celeba-dataset/download?datasetVersionNumber=2')"
      ],
      "metadata": {
        "colab": {
          "base_uri": "https://localhost:8080/"
        },
        "id": "buCNH0Pd-SnA",
        "outputId": "3580a4a5-3c72-4e90-ecf2-9a43d72254ec"
      },
      "execution_count": null,
      "outputs": [
        {
          "output_type": "stream",
          "name": "stdout",
          "text": [
            "Skipping, found downloaded files in \"./celeba-dataset\" (use force=True to force download)\n"
          ]
        }
      ]
    },
    {
      "cell_type": "code",
      "source": [
        "# set variables \n",
        "main_folder = ''\n",
        "images_folder = main_folder + '/content/celeba-dataset/img_align_celeba/img_align_celeba/'\n"
      ],
      "metadata": {
        "id": "jL6sI3OUWck2"
      },
      "execution_count": null,
      "outputs": []
    },
    {
      "cell_type": "code",
      "source": [
        "df_attr = pd.read_csv('/content/celeba-dataset/list_attr_celeba.csv')\n",
        "df_attr.set_index('image_id', inplace=True)\n",
        "df_attr.replace(to_replace=-1, value=0, inplace=True) #replace -1 by 0"
      ],
      "metadata": {
        "id": "LohzTJ7DeyQ-"
      },
      "execution_count": null,
      "outputs": []
    },
    {
      "cell_type": "code",
      "source": [
        "# List of available attributes\n",
        "for i, j in enumerate(df_attr.columns):\n",
        "    print(i, j)"
      ],
      "metadata": {
        "colab": {
          "base_uri": "https://localhost:8080/"
        },
        "id": "UDr3H4rAnUJJ",
        "outputId": "5f0af5bf-a5b5-4023-8d04-9586be5faef0"
      },
      "execution_count": null,
      "outputs": [
        {
          "output_type": "stream",
          "name": "stdout",
          "text": [
            "0 5_o_Clock_Shadow\n",
            "1 Arched_Eyebrows\n",
            "2 Attractive\n",
            "3 Bags_Under_Eyes\n",
            "4 Bald\n",
            "5 Bangs\n",
            "6 Big_Lips\n",
            "7 Big_Nose\n",
            "8 Black_Hair\n",
            "9 Blond_Hair\n",
            "10 Blurry\n",
            "11 Brown_Hair\n",
            "12 Bushy_Eyebrows\n",
            "13 Chubby\n",
            "14 Double_Chin\n",
            "15 Eyeglasses\n",
            "16 Goatee\n",
            "17 Gray_Hair\n",
            "18 Heavy_Makeup\n",
            "19 High_Cheekbones\n",
            "20 Male\n",
            "21 Mouth_Slightly_Open\n",
            "22 Mustache\n",
            "23 Narrow_Eyes\n",
            "24 No_Beard\n",
            "25 Oval_Face\n",
            "26 Pale_Skin\n",
            "27 Pointy_Nose\n",
            "28 Receding_Hairline\n",
            "29 Rosy_Cheeks\n",
            "30 Sideburns\n",
            "31 Smiling\n",
            "32 Straight_Hair\n",
            "33 Wavy_Hair\n",
            "34 Wearing_Earrings\n",
            "35 Wearing_Hat\n",
            "36 Wearing_Lipstick\n",
            "37 Wearing_Necklace\n",
            "38 Wearing_Necktie\n",
            "39 Young\n"
          ]
        }
      ]
    },
    {
      "cell_type": "code",
      "source": [
        "img_=\"/content/celeba-dataset/img_align_celeba/img_align_celeba/000002.jpg\""
      ],
      "metadata": {
        "id": "MprXtWDwom5H"
      },
      "execution_count": null,
      "outputs": []
    },
    {
      "cell_type": "code",
      "source": [
        "img = load_img(img_)\n",
        "plt.grid(False)\n",
        "plt.imshow(img)\n",
        "df_attr.loc[img_.split('/')[-1]][['Smiling','Male','Young']] #some attributes"
      ],
      "metadata": {
        "colab": {
          "base_uri": "https://localhost:8080/",
          "height": 340
        },
        "id": "pjZLjX5WnZ6i",
        "outputId": "856ba7cf-0fcd-42f0-d0ee-8c760613a305"
      },
      "execution_count": null,
      "outputs": [
        {
          "output_type": "execute_result",
          "data": {
            "text/plain": [
              "Smiling    1\n",
              "Male       0\n",
              "Young      1\n",
              "Name: 000002.jpg, dtype: int64"
            ]
          },
          "metadata": {},
          "execution_count": 20
        },
        {
          "output_type": "display_data",
          "data": {
            "text/plain": [
              "<Figure size 432x288 with 1 Axes>"
            ],
            "image/png": "[encoded data removed]"
          },
          "metadata": {
            "needs_background": "light"
          }
        }
      ]
    },
    {
      "cell_type": "code",
      "source": [
        "img.size"
      ],
      "metadata": {
        "colab": {
          "base_uri": "https://localhost:8080/"
        },
        "id": "WMvqLF7-_X_K",
        "outputId": "57b52bce-f100-4c2c-8093-eabe431c91aa"
      },
      "execution_count": null,
      "outputs": [
        {
          "output_type": "execute_result",
          "data": {
            "text/plain": [
              "(178, 218)"
            ]
          },
          "metadata": {},
          "execution_count": 21
        }
      ]
    },
    {
      "cell_type": "code",
      "source": [
        "df_partition = pd.read_csv('/content/celeba-dataset/list_eval_partition.csv')\n",
        "df_partition.head()"
      ],
      "metadata": {
        "colab": {
          "base_uri": "https://localhost:8080/",
          "height": 206
        },
        "id": "X8ZryEDWo90P",
        "outputId": "9637c4ea-093d-4843-f0d3-abd37e664822"
      },
      "execution_count": null,
      "outputs": [
        {
          "output_type": "execute_result",
          "data": {
            "text/plain": [
              "     image_id  partition\n",
              "0  000001.jpg          0\n",
              "1  000002.jpg          0\n",
              "2  000003.jpg          0\n",
              "3  000004.jpg          0\n",
              "4  000005.jpg          0"
            ],
            "text/html": [
              "\n",
              "  <div id=\"df-8185c7b3-c858-4510-a506-858a5de9e1d6\">\n",
              "    <div class=\"colab-df-container\">\n",
              "      <div>\n",
              "<style scoped>\n",
              "    .dataframe tbody tr th:only-of-type {\n",
              "        vertical-align: middle;\n",
              "    }\n",
              "\n",
              "    .dataframe tbody tr th {\n",
              "        vertical-align: top;\n",
              "    }\n",
              "\n",
              "    .dataframe thead th {\n",
              "        text-align: right;\n",
              "    }\n",
              "</style>\n",
              "<table border=\"1\" class=\"dataframe\">\n",
              "  <thead>\n",
              "    <tr style=\"text-align: right;\">\n",
              "      <th></th>\n",
              "      <th>image_id</th>\n",
              "      <th>partition</th>\n",
              "    </tr>\n",
              "  </thead>\n",
              "  <tbody>\n",
              "    <tr>\n",
              "      <th>0</th>\n",
              "      <td>000001.jpg</td>\n",
              "      <td>0</td>\n",
              "    </tr>\n",
              "    <tr>\n",
              "      <th>1</th>\n",
              "      <td>000002.jpg</td>\n",
              "      <td>0</td>\n",
              "    </tr>\n",
              "    <tr>\n",
              "      <th>2</th>\n",
              "      <td>000003.jpg</td>\n",
              "      <td>0</td>\n",
              "    </tr>\n",
              "    <tr>\n",
              "      <th>3</th>\n",
              "      <td>000004.jpg</td>\n",
              "      <td>0</td>\n",
              "    </tr>\n",
              "    <tr>\n",
              "      <th>4</th>\n",
              "      <td>000005.jpg</td>\n",
              "      <td>0</td>\n",
              "    </tr>\n",
              "  </tbody>\n",
              "</table>\n",
              "</div>\n",
              "      <button class=\"colab-df-convert\" onclick=\"convertToInteractive('df-8185c7b3-c858-4510-a506-858a5de9e1d6')\"\n",
              "              title=\"Convert this dataframe to an interactive table.\"\n",
              "              style=\"display:none;\">\n",
              "        \n",
              "  <svg xmlns=\"http://www.w3.org/2000/svg\" height=\"24px\"viewBox=\"0 0 24 24\"\n",
              "       width=\"24px\">\n",
              "    <path d=\"M0 0h24v24H0V0z\" fill=\"none\"/>\n",
              "    <path d=\"M18.56 5.44l.94 2.06.94-2.06 2.06-.94-2.06-.94-.94-2.06-.94 2.06-2.06.94zm-11 1L8.5 8.5l.94-2.06 2.06-.94-2.06-.94L8.5 2.5l-.94 2.06-2.06.94zm10 10l.94 2.06.94-2.06 2.06-.94-2.06-.94-.94-2.06-.94 2.06-2.06.94z\"/><path d=\"M17.41 7.96l-1.37-1.37c-.4-.4-.92-.59-1.43-.59-.52 0-1.04.2-1.43.59L10.3 9.45l-7.72 7.72c-.78.78-.78 2.05 0 2.83L4 21.41c.39.39.9.59 1.41.59.51 0 1.02-.2 1.41-.59l7.78-7.78 2.81-2.81c.8-.78.8-2.07 0-2.86zM5.41 20L4 18.59l7.72-7.72 1.47 1.35L5.41 20z\"/>\n",
              "  </svg>\n",
              "      </button>\n",
              "      \n",
              "  <style>\n",
              "    .colab-df-container {\n",
              "      display:flex;\n",
              "      flex-wrap:wrap;\n",
              "      gap: 12px;\n",
              "    }\n",
              "\n",
              "    .colab-df-convert {\n",
              "      background-color: #E8F0FE;\n",
              "      border: none;\n",
              "      border-radius: 50%;\n",
              "      cursor: pointer;\n",
              "      display: none;\n",
              "      fill: #1967D2;\n",
              "      height: 32px;\n",
              "      padding: 0 0 0 0;\n",
              "      width: 32px;\n",
              "    }\n",
              "\n",
              "    .colab-df-convert:hover {\n",
              "      background-color: #E2EBFA;\n",
              "      box-shadow: 0px 1px 2px rgba(60, 64, 67, 0.3), 0px 1px 3px 1px rgba(60, 64, 67, 0.15);\n",
              "      fill: #174EA6;\n",
              "    }\n",
              "\n",
              "    [theme=dark] .colab-df-convert {\n",
              "      background-color: #3B4455;\n",
              "      fill: #D2E3FC;\n",
              "    }\n",
              "\n",
              "    [theme=dark] .colab-df-convert:hover {\n",
              "      background-color: #434B5C;\n",
              "      box-shadow: 0px 1px 3px 1px rgba(0, 0, 0, 0.15);\n",
              "      filter: drop-shadow(0px 1px 2px rgba(0, 0, 0, 0.3));\n",
              "      fill: #FFFFFF;\n",
              "    }\n",
              "  </style>\n",
              "\n",
              "      <script>\n",
              "        const buttonEl =\n",
              "          document.querySelector('#df-8185c7b3-c858-4510-a506-858a5de9e1d6 button.colab-df-convert');\n",
              "        buttonEl.style.display =\n",
              "          google.colab.kernel.accessAllowed ? 'block' : 'none';\n",
              "\n",
              "        async function convertToInteractive(key) {\n",
              "          const element = document.querySelector('#df-8185c7b3-c858-4510-a506-858a5de9e1d6');\n",
              "          const dataTable =\n",
              "            await google.colab.kernel.invokeFunction('convertToInteractive',\n",
              "                                                     [key], {});\n",
              "          if (!dataTable) return;\n",
              "\n",
              "          const docLinkHtml = 'Like what you see? Visit the ' +\n",
              "            '<a target=\"_blank\" href=https://colab.research.google.com/notebooks/data_table.ipynb>data table notebook</a>'\n",
              "            + ' to learn more about interactive tables.';\n",
              "          element.innerHTML = '';\n",
              "          dataTable['output_type'] = 'display_data';\n",
              "          await google.colab.output.renderOutput(dataTable, element);\n",
              "          const docLink = document.createElement('div');\n",
              "          docLink.innerHTML = docLinkHtml;\n",
              "          element.appendChild(docLink);\n",
              "        }\n",
              "      </script>\n",
              "    </div>\n",
              "  </div>\n",
              "  "
            ]
          },
          "metadata": {},
          "execution_count": 22
        }
      ]
    },
    {
      "cell_type": "code",
      "source": [
        "# display counter by partition\n",
        "# 0 -> TRAINING\n",
        "# 1 -> VALIDATION\n",
        "# 2 -> TEST\n",
        "df_partition['partition'].value_counts().sort_index()"
      ],
      "metadata": {
        "id": "baeR1O4wpJZL",
        "outputId": "5ba8a2c5-aa73-4d2b-f30e-bd489f4ae0dd",
        "colab": {
          "base_uri": "https://localhost:8080/"
        }
      },
      "execution_count": null,
      "outputs": [
        {
          "output_type": "execute_result",
          "data": {
            "text/plain": [
              "0    162770\n",
              "1     19867\n",
              "2     19962\n",
              "Name: partition, dtype: int64"
            ]
          },
          "metadata": {},
          "execution_count": 23
        }
      ]
    },
    {
      "cell_type": "code",
      "source": [],
      "metadata": {
        "id": "tDJEqU3pU1_1"
      },
      "execution_count": null,
      "outputs": []
    },
    {
      "cell_type": "code",
      "source": [
        "# join the partition with the attributes\n",
        "df_partition.set_index('image_id', inplace=True)\n",
        "df_par_attr = df_partition.join(df_attr['Male'], how='inner')\n",
        "df_par_attr = df_par_attr.join(df_attr['Smiling'], how='inner')\n",
        "df_par_attr = df_par_attr.join(df_attr['Young'], how='inner')\n",
        "df_par_attr.head()"
      ],
      "metadata": {
        "id": "KQXfkBzKpOHy",
        "outputId": "2fac5401-d312-4112-d618-713318290181",
        "colab": {
          "base_uri": "https://localhost:8080/",
          "height": 237
        }
      },
      "execution_count": null,
      "outputs": [
        {
          "output_type": "execute_result",
          "data": {
            "text/plain": [
              "            partition  Male  Smiling  Young\n",
              "image_id                                   \n",
              "000001.jpg          0     0        1      1\n",
              "000002.jpg          0     0        1      1\n",
              "000003.jpg          0     1        0      1\n",
              "000004.jpg          0     0        0      1\n",
              "000005.jpg          0     0        0      1"
            ],
            "text/html": [
              "\n",
              "  <div id=\"df-45ff6520-3d7e-4586-8067-f5bf048919e5\">\n",
              "    <div class=\"colab-df-container\">\n",
              "      <div>\n",
              "<style scoped>\n",
              "    .dataframe tbody tr th:only-of-type {\n",
              "        vertical-align: middle;\n",
              "    }\n",
              "\n",
              "    .dataframe tbody tr th {\n",
              "        vertical-align: top;\n",
              "    }\n",
              "\n",
              "    .dataframe thead th {\n",
              "        text-align: right;\n",
              "    }\n",
              "</style>\n",
              "<table border=\"1\" class=\"dataframe\">\n",
              "  <thead>\n",
              "    <tr style=\"text-align: right;\">\n",
              "      <th></th>\n",
              "      <th>partition</th>\n",
              "      <th>Male</th>\n",
              "      <th>Smiling</th>\n",
              "      <th>Young</th>\n",
              "    </tr>\n",
              "    <tr>\n",
              "      <th>image_id</th>\n",
              "      <th></th>\n",
              "      <th></th>\n",
              "      <th></th>\n",
              "      <th></th>\n",
              "    </tr>\n",
              "  </thead>\n",
              "  <tbody>\n",
              "    <tr>\n",
              "      <th>000001.jpg</th>\n",
              "      <td>0</td>\n",
              "      <td>0</td>\n",
              "      <td>1</td>\n",
              "      <td>1</td>\n",
              "    </tr>\n",
              "    <tr>\n",
              "      <th>000002.jpg</th>\n",
              "      <td>0</td>\n",
              "      <td>0</td>\n",
              "      <td>1</td>\n",
              "      <td>1</td>\n",
              "    </tr>\n",
              "    <tr>\n",
              "      <th>000003.jpg</th>\n",
              "      <td>0</td>\n",
              "      <td>1</td>\n",
              "      <td>0</td>\n",
              "      <td>1</td>\n",
              "    </tr>\n",
              "    <tr>\n",
              "      <th>000004.jpg</th>\n",
              "      <td>0</td>\n",
              "      <td>0</td>\n",
              "      <td>0</td>\n",
              "      <td>1</td>\n",
              "    </tr>\n",
              "    <tr>\n",
              "      <th>000005.jpg</th>\n",
              "      <td>0</td>\n",
              "      <td>0</td>\n",
              "      <td>0</td>\n",
              "      <td>1</td>\n",
              "    </tr>\n",
              "  </tbody>\n",
              "</table>\n",
              "</div>\n",
              "      <button class=\"colab-df-convert\" onclick=\"convertToInteractive('df-45ff6520-3d7e-4586-8067-f5bf048919e5')\"\n",
              "              title=\"Convert this dataframe to an interactive table.\"\n",
              "              style=\"display:none;\">\n",
              "        \n",
              "  <svg xmlns=\"http://www.w3.org/2000/svg\" height=\"24px\"viewBox=\"0 0 24 24\"\n",
              "       width=\"24px\">\n",
              "    <path d=\"M0 0h24v24H0V0z\" fill=\"none\"/>\n",
              "    <path d=\"M18.56 5.44l.94 2.06.94-2.06 2.06-.94-2.06-.94-.94-2.06-.94 2.06-2.06.94zm-11 1L8.5 8.5l.94-2.06 2.06-.94-2.06-.94L8.5 2.5l-.94 2.06-2.06.94zm10 10l.94 2.06.94-2.06 2.06-.94-2.06-.94-.94-2.06-.94 2.06-2.06.94z\"/><path d=\"M17.41 7.96l-1.37-1.37c-.4-.4-.92-.59-1.43-.59-.52 0-1.04.2-1.43.59L10.3 9.45l-7.72 7.72c-.78.78-.78 2.05 0 2.83L4 21.41c.39.39.9.59 1.41.59.51 0 1.02-.2 1.41-.59l7.78-7.78 2.81-2.81c.8-.78.8-2.07 0-2.86zM5.41 20L4 18.59l7.72-7.72 1.47 1.35L5.41 20z\"/>\n",
              "  </svg>\n",
              "      </button>\n",
              "      \n",
              "  <style>\n",
              "    .colab-df-container {\n",
              "      display:flex;\n",
              "      flex-wrap:wrap;\n",
              "      gap: 12px;\n",
              "    }\n",
              "\n",
              "    .colab-df-convert {\n",
              "      background-color: #E8F0FE;\n",
              "      border: none;\n",
              "      border-radius: 50%;\n",
              "      cursor: pointer;\n",
              "      display: none;\n",
              "      fill: #1967D2;\n",
              "      height: 32px;\n",
              "      padding: 0 0 0 0;\n",
              "      width: 32px;\n",
              "    }\n",
              "\n",
              "    .colab-df-convert:hover {\n",
              "      background-color: #E2EBFA;\n",
              "      box-shadow: 0px 1px 2px rgba(60, 64, 67, 0.3), 0px 1px 3px 1px rgba(60, 64, 67, 0.15);\n",
              "      fill: #174EA6;\n",
              "    }\n",
              "\n",
              "    [theme=dark] .colab-df-convert {\n",
              "      background-color: #3B4455;\n",
              "      fill: #D2E3FC;\n",
              "    }\n",
              "\n",
              "    [theme=dark] .colab-df-convert:hover {\n",
              "      background-color: #434B5C;\n",
              "      box-shadow: 0px 1px 3px 1px rgba(0, 0, 0, 0.15);\n",
              "      filter: drop-shadow(0px 1px 2px rgba(0, 0, 0, 0.3));\n",
              "      fill: #FFFFFF;\n",
              "    }\n",
              "  </style>\n",
              "\n",
              "      <script>\n",
              "        const buttonEl =\n",
              "          document.querySelector('#df-45ff6520-3d7e-4586-8067-f5bf048919e5 button.colab-df-convert');\n",
              "        buttonEl.style.display =\n",
              "          google.colab.kernel.accessAllowed ? 'block' : 'none';\n",
              "\n",
              "        async function convertToInteractive(key) {\n",
              "          const element = document.querySelector('#df-45ff6520-3d7e-4586-8067-f5bf048919e5');\n",
              "          const dataTable =\n",
              "            await google.colab.kernel.invokeFunction('convertToInteractive',\n",
              "                                                     [key], {});\n",
              "          if (!dataTable) return;\n",
              "\n",
              "          const docLinkHtml = 'Like what you see? Visit the ' +\n",
              "            '<a target=\"_blank\" href=https://colab.research.google.com/notebooks/data_table.ipynb>data table notebook</a>'\n",
              "            + ' to learn more about interactive tables.';\n",
              "          element.innerHTML = '';\n",
              "          dataTable['output_type'] = 'display_data';\n",
              "          await google.colab.output.renderOutput(dataTable, element);\n",
              "          const docLink = document.createElement('div');\n",
              "          docLink.innerHTML = docLinkHtml;\n",
              "          element.appendChild(docLink);\n",
              "        }\n",
              "      </script>\n",
              "    </div>\n",
              "  </div>\n",
              "  "
            ]
          },
          "metadata": {},
          "execution_count": 24
        }
      ]
    },
    {
      "cell_type": "code",
      "source": [
        "df_par_attr['partition'].value_counts()"
      ],
      "metadata": {
        "colab": {
          "base_uri": "https://localhost:8080/"
        },
        "id": "wDTWxCL-YtrX",
        "outputId": "ab3273d0-e7f6-4194-af1e-98d9f089a388"
      },
      "execution_count": null,
      "outputs": [
        {
          "output_type": "execute_result",
          "data": {
            "text/plain": [
              "0    162770\n",
              "2     19962\n",
              "1     19867\n",
              "Name: partition, dtype: int64"
            ]
          },
          "metadata": {},
          "execution_count": 25
        }
      ]
    },
    {
      "cell_type": "code",
      "source": [
        "def load_reshape_img(img_name):\n",
        "    img = load_img(img_name)\n",
        "    x = img_to_array(img)/255.\n",
        "    x = x.reshape((1,) + x.shape)\n",
        "\n",
        "    return x"
      ],
      "metadata": {
        "id": "HTUBcOrKsj_E"
      },
      "execution_count": null,
      "outputs": []
    },
    {
      "cell_type": "code",
      "source": [
        "df_train = df_par_attr[df_par_attr['partition']==0] ## train set\n",
        "df_valid = df_par_attr[df_par_attr['partition']==1] ## valid set\n",
        "df_test = df_par_attr[df_par_attr['partition']==2] ## test set\n"
      ],
      "metadata": {
        "id": "u83XiJEvo7Dw"
      },
      "execution_count": null,
      "outputs": []
    },
    {
      "cell_type": "code",
      "source": [
        "df_train_gender = df_train.iloc[0:2000,:2]\n",
        "df_valid_gender = df_valid.iloc[0:500,:2]\n",
        "df_test_gender = df_test.iloc[0:400,:2]"
      ],
      "metadata": {
        "id": "6EEVnzSrsyz2"
      },
      "execution_count": null,
      "outputs": []
    },
    {
      "cell_type": "code",
      "source": [
        "df_train_gender"
      ],
      "metadata": {
        "colab": {
          "base_uri": "https://localhost:8080/",
          "height": 455
        },
        "id": "ZUPSnTPKu0HY",
        "outputId": "6f686c4e-a65f-488e-bd66-9eb1b7bf4fc4"
      },
      "execution_count": null,
      "outputs": [
        {
          "output_type": "execute_result",
          "data": {
            "text/plain": [
              "            partition  Male\n",
              "image_id                   \n",
              "000001.jpg          0     0\n",
              "000002.jpg          0     0\n",
              "000003.jpg          0     1\n",
              "000004.jpg          0     0\n",
              "000005.jpg          0     0\n",
              "...               ...   ...\n",
              "001996.jpg          0     1\n",
              "001997.jpg          0     0\n",
              "001998.jpg          0     1\n",
              "001999.jpg          0     1\n",
              "002000.jpg          0     1\n",
              "\n",
              "[2000 rows x 2 columns]"
            ],
            "text/html": [
              "\n",
              "  <div id=\"df-9a234be1-c133-4da2-8685-123f9b047d5a\">\n",
              "    <div class=\"colab-df-container\">\n",
              "      <div>\n",
              "<style scoped>\n",
              "    .dataframe tbody tr th:only-of-type {\n",
              "        vertical-align: middle;\n",
              "    }\n",
              "\n",
              "    .dataframe tbody tr th {\n",
              "        vertical-align: top;\n",
              "    }\n",
              "\n",
              "    .dataframe thead th {\n",
              "        text-align: right;\n",
              "    }\n",
              "</style>\n",
              "<table border=\"1\" class=\"dataframe\">\n",
              "  <thead>\n",
              "    <tr style=\"text-align: right;\">\n",
              "      <th></th>\n",
              "      <th>partition</th>\n",
              "      <th>Male</th>\n",
              "    </tr>\n",
              "    <tr>\n",
              "      <th>image_id</th>\n",
              "      <th></th>\n",
              "      <th></th>\n",
              "    </tr>\n",
              "  </thead>\n",
              "  <tbody>\n",
              "    <tr>\n",
              "      <th>000001.jpg</th>\n",
              "      <td>0</td>\n",
              "      <td>0</td>\n",
              "    </tr>\n",
              "    <tr>\n",
              "      <th>000002.jpg</th>\n",
              "      <td>0</td>\n",
              "      <td>0</td>\n",
              "    </tr>\n",
              "    <tr>\n",
              "      <th>000003.jpg</th>\n",
              "      <td>0</td>\n",
              "      <td>1</td>\n",
              "    </tr>\n",
              "    <tr>\n",
              "      <th>000004.jpg</th>\n",
              "      <td>0</td>\n",
              "      <td>0</td>\n",
              "    </tr>\n",
              "    <tr>\n",
              "      <th>000005.jpg</th>\n",
              "      <td>0</td>\n",
              "      <td>0</td>\n",
              "    </tr>\n",
              "    <tr>\n",
              "      <th>...</th>\n",
              "      <td>...</td>\n",
              "      <td>...</td>\n",
              "    </tr>\n",
              "    <tr>\n",
              "      <th>001996.jpg</th>\n",
              "      <td>0</td>\n",
              "      <td>1</td>\n",
              "    </tr>\n",
              "    <tr>\n",
              "      <th>001997.jpg</th>\n",
              "      <td>0</td>\n",
              "      <td>0</td>\n",
              "    </tr>\n",
              "    <tr>\n",
              "      <th>001998.jpg</th>\n",
              "      <td>0</td>\n",
              "      <td>1</td>\n",
              "    </tr>\n",
              "    <tr>\n",
              "      <th>001999.jpg</th>\n",
              "      <td>0</td>\n",
              "      <td>1</td>\n",
              "    </tr>\n",
              "    <tr>\n",
              "      <th>002000.jpg</th>\n",
              "      <td>0</td>\n",
              "      <td>1</td>\n",
              "    </tr>\n",
              "  </tbody>\n",
              "</table>\n",
              "<p>2000 rows × 2 columns</p>\n",
              "</div>\n",
              "      <button class=\"colab-df-convert\" onclick=\"convertToInteractive('df-9a234be1-c133-4da2-8685-123f9b047d5a')\"\n",
              "              title=\"Convert this dataframe to an interactive table.\"\n",
              "              style=\"display:none;\">\n",
              "        \n",
              "  <svg xmlns=\"http://www.w3.org/2000/svg\" height=\"24px\"viewBox=\"0 0 24 24\"\n",
              "       width=\"24px\">\n",
              "    <path d=\"M0 0h24v24H0V0z\" fill=\"none\"/>\n",
              "    <path d=\"M18.56 5.44l.94 2.06.94-2.06 2.06-.94-2.06-.94-.94-2.06-.94 2.06-2.06.94zm-11 1L8.5 8.5l.94-2.06 2.06-.94-2.06-.94L8.5 2.5l-.94 2.06-2.06.94zm10 10l.94 2.06.94-2.06 2.06-.94-2.06-.94-.94-2.06-.94 2.06-2.06.94z\"/><path d=\"M17.41 7.96l-1.37-1.37c-.4-.4-.92-.59-1.43-.59-.52 0-1.04.2-1.43.59L10.3 9.45l-7.72 7.72c-.78.78-.78 2.05 0 2.83L4 21.41c.39.39.9.59 1.41.59.51 0 1.02-.2 1.41-.59l7.78-7.78 2.81-2.81c.8-.78.8-2.07 0-2.86zM5.41 20L4 18.59l7.72-7.72 1.47 1.35L5.41 20z\"/>\n",
              "  </svg>\n",
              "      </button>\n",
              "      \n",
              "  <style>\n",
              "    .colab-df-container {\n",
              "      display:flex;\n",
              "      flex-wrap:wrap;\n",
              "      gap: 12px;\n",
              "    }\n",
              "\n",
              "    .colab-df-convert {\n",
              "      background-color: #E8F0FE;\n",
              "      border: none;\n",
              "      border-radius: 50%;\n",
              "      cursor: pointer;\n",
              "      display: none;\n",
              "      fill: #1967D2;\n",
              "      height: 32px;\n",
              "      padding: 0 0 0 0;\n",
              "      width: 32px;\n",
              "    }\n",
              "\n",
              "    .colab-df-convert:hover {\n",
              "      background-color: #E2EBFA;\n",
              "      box-shadow: 0px 1px 2px rgba(60, 64, 67, 0.3), 0px 1px 3px 1px rgba(60, 64, 67, 0.15);\n",
              "      fill: #174EA6;\n",
              "    }\n",
              "\n",
              "    [theme=dark] .colab-df-convert {\n",
              "      background-color: #3B4455;\n",
              "      fill: #D2E3FC;\n",
              "    }\n",
              "\n",
              "    [theme=dark] .colab-df-convert:hover {\n",
              "      background-color: #434B5C;\n",
              "      box-shadow: 0px 1px 3px 1px rgba(0, 0, 0, 0.15);\n",
              "      filter: drop-shadow(0px 1px 2px rgba(0, 0, 0, 0.3));\n",
              "      fill: #FFFFFF;\n",
              "    }\n",
              "  </style>\n",
              "\n",
              "      <script>\n",
              "        const buttonEl =\n",
              "          document.querySelector('#df-9a234be1-c133-4da2-8685-123f9b047d5a button.colab-df-convert');\n",
              "        buttonEl.style.display =\n",
              "          google.colab.kernel.accessAllowed ? 'block' : 'none';\n",
              "\n",
              "        async function convertToInteractive(key) {\n",
              "          const element = document.querySelector('#df-9a234be1-c133-4da2-8685-123f9b047d5a');\n",
              "          const dataTable =\n",
              "            await google.colab.kernel.invokeFunction('convertToInteractive',\n",
              "                                                     [key], {});\n",
              "          if (!dataTable) return;\n",
              "\n",
              "          const docLinkHtml = 'Like what you see? Visit the ' +\n",
              "            '<a target=\"_blank\" href=https://colab.research.google.com/notebooks/data_table.ipynb>data table notebook</a>'\n",
              "            + ' to learn more about interactive tables.';\n",
              "          element.innerHTML = '';\n",
              "          dataTable['output_type'] = 'display_data';\n",
              "          await google.colab.output.renderOutput(dataTable, element);\n",
              "          const docLink = document.createElement('div');\n",
              "          docLink.innerHTML = docLinkHtml;\n",
              "          element.appendChild(docLink);\n",
              "        }\n",
              "      </script>\n",
              "    </div>\n",
              "  </div>\n",
              "  "
            ]
          },
          "metadata": {},
          "execution_count": 29
        }
      ]
    },
    {
      "cell_type": "code",
      "source": [
        "df_train_gender['Male']"
      ],
      "metadata": {
        "colab": {
          "base_uri": "https://localhost:8080/"
        },
        "id": "sTqXzfjet7Gt",
        "outputId": "641fcc98-3c42-44b7-9f13-b0e765f2bb29"
      },
      "execution_count": null,
      "outputs": [
        {
          "output_type": "execute_result",
          "data": {
            "text/plain": [
              "image_id\n",
              "000001.jpg    0\n",
              "000002.jpg    0\n",
              "000003.jpg    1\n",
              "000004.jpg    0\n",
              "000005.jpg    0\n",
              "             ..\n",
              "001996.jpg    1\n",
              "001997.jpg    0\n",
              "001998.jpg    1\n",
              "001999.jpg    1\n",
              "002000.jpg    1\n",
              "Name: Male, Length: 2000, dtype: int64"
            ]
          },
          "metadata": {},
          "execution_count": 30
        }
      ]
    },
    {
      "cell_type": "code",
      "source": [],
      "metadata": {
        "id": "iSTRIEdv_AFu"
      },
      "execution_count": null,
      "outputs": []
    },
    {
      "cell_type": "code",
      "source": [
        "x_ = np.array([load_reshape_img(images_folder + fname) for fname in df_train_gender.index])\n",
        "X_train = x_.reshape(x_.shape[0], 218, 178, 3)\n",
        "\n",
        "x_v = np.array([load_reshape_img(images_folder + fname) for fname in df_valid_gender.index])\n",
        "X_valid = x_v.reshape(x_v.shape[0], 218, 178, 3)\n",
        "\n",
        "x_t = np.array([load_reshape_img(images_folder + fname) for fname in df_test_gender.index])\n",
        "X_test = x_t.reshape(x_t.shape[0], 218, 178, 3)\n",
        "\n",
        "y_train = keras.utils.to_categorical(df_train_gender['Male'],2)\n",
        "y_valid = keras.utils.to_categorical(df_valid_gender['Male'],2)\n",
        "y_test = keras.utils.to_categorical(df_test_gender['Male'],2)"
      ],
      "metadata": {
        "id": "pSJg2fCvo5Dd"
      },
      "execution_count": null,
      "outputs": []
    },
    {
      "cell_type": "code",
      "source": [
        "X_train.shape"
      ],
      "metadata": {
        "colab": {
          "base_uri": "https://localhost:8080/"
        },
        "id": "3QBPHkiD3rVM",
        "outputId": "f2b2ebea-8aac-46d7-b4e7-fa2b62af4e70"
      },
      "execution_count": null,
      "outputs": [
        {
          "output_type": "execute_result",
          "data": {
            "text/plain": [
              "(2000, 218, 178, 3)"
            ]
          },
          "metadata": {},
          "execution_count": 37
        }
      ]
    },
    {
      "cell_type": "code",
      "source": [
        "X_train = X_train.reshape(X_train.shape[0], -1)\n",
        "X_valid = X_valid.reshape(X_valid .shape[0], -1)\n",
        "X_test = X_test.reshape(X_test.shape[0], -1)"
      ],
      "metadata": {
        "id": "3wRv6IuXDaH5"
      },
      "execution_count": null,
      "outputs": []
    },
    {
      "cell_type": "code",
      "source": [
        "y_train.shape"
      ],
      "metadata": {
        "colab": {
          "base_uri": "https://localhost:8080/"
        },
        "id": "6UhhKxRMDdcb",
        "outputId": "f9da13f5-d9df-4731-f3ab-4918a1821b11"
      },
      "execution_count": null,
      "outputs": [
        {
          "output_type": "execute_result",
          "data": {
            "text/plain": [
              "(2000, 2)"
            ]
          },
          "metadata": {},
          "execution_count": 41
        }
      ]
    },
    {
      "cell_type": "code",
      "source": [
        "from tensorflow.keras.models import Sequential\n",
        "from tensorflow.keras.layers import Dense\n",
        "\n",
        "model = Sequential()\n",
        "\n",
        "model.add(Dense(512, activation='relu', input_shape=(X_train.shape[1],)))\n",
        "model.add(Dense(512, activation='relu'))\n",
        "model.add(Dense(64, activation='relu'))\n",
        "model.add(Dense(2, activation='softmax'))\n",
        "\n",
        "model.compile(optimizer='rmsprop', loss='categorical_crossentropy', metrics=['accuracy'])\n",
        "history = model.fit(\n",
        "    X_train,\n",
        "    y_train,\n",
        "    batch_size=64,\n",
        "    epochs=40,\n",
        "    verbose=True,\n",
        "    validation_data=(X_valid, y_valid)\n",
        ")\n",
        "\n",
        "[test_loss, test_acc] = model.evaluate(X_test, y_test)\n",
        "print(f\"Evaluation result on Test Data : Loss = {test_loss}, accuracy = {test_acc}\")"
      ],
      "metadata": {
        "colab": {
          "base_uri": "https://localhost:8080/"
        },
        "id": "YVKBZy141OoN",
        "outputId": "c1c6b1b8-aabe-448a-e883-86e9195a9f96"
      },
      "execution_count": null,
      "outputs": [
        {
          "output_type": "stream",
          "name": "stdout",
          "text": [
            "Epoch 1/40\n",
            "32/32 [==============================] - 3s 65ms/step - loss: 52.8230 - accuracy: 0.4900 - val_loss: 6.7818 - val_accuracy: 0.4280\n",
            "Epoch 2/40\n",
            "32/32 [==============================] - 1s 46ms/step - loss: 2.2840 - accuracy: 0.5240 - val_loss: 0.6683 - val_accuracy: 0.5740\n",
            "Epoch 3/40\n",
            "32/32 [==============================] - 1s 44ms/step - loss: 0.8720 - accuracy: 0.5660 - val_loss: 1.5408 - val_accuracy: 0.3700\n",
            "Epoch 4/40\n",
            "32/32 [==============================] - 1s 44ms/step - loss: 0.7765 - accuracy: 0.5785 - val_loss: 0.6815 - val_accuracy: 0.5820\n",
            "Epoch 5/40\n",
            "32/32 [==============================] - 1s 45ms/step - loss: 0.6812 - accuracy: 0.5870 - val_loss: 0.6798 - val_accuracy: 0.5800\n",
            "Epoch 6/40\n",
            "32/32 [==============================] - 1s 45ms/step - loss: 0.6882 - accuracy: 0.5860 - val_loss: 0.6810 - val_accuracy: 0.5820\n",
            "Epoch 7/40\n",
            "32/32 [==============================] - 1s 44ms/step - loss: 0.6782 - accuracy: 0.5905 - val_loss: 0.6774 - val_accuracy: 0.5860\n",
            "Epoch 8/40\n",
            "32/32 [==============================] - 1s 44ms/step - loss: 0.6716 - accuracy: 0.5940 - val_loss: 0.7219 - val_accuracy: 0.5720\n",
            "Epoch 9/40\n",
            "32/32 [==============================] - 1s 44ms/step - loss: 0.6830 - accuracy: 0.5955 - val_loss: 0.6748 - val_accuracy: 0.5880\n",
            "Epoch 10/40\n",
            "32/32 [==============================] - 1s 45ms/step - loss: 0.6738 - accuracy: 0.5975 - val_loss: 0.7250 - val_accuracy: 0.5940\n",
            "Epoch 11/40\n",
            "32/32 [==============================] - 1s 44ms/step - loss: 0.6702 - accuracy: 0.6040 - val_loss: 0.6739 - val_accuracy: 0.5960\n",
            "Epoch 12/40\n",
            "32/32 [==============================] - 1s 45ms/step - loss: 0.6589 - accuracy: 0.6115 - val_loss: 0.6849 - val_accuracy: 0.6040\n",
            "Epoch 13/40\n",
            "32/32 [==============================] - 1s 45ms/step - loss: 0.7551 - accuracy: 0.6160 - val_loss: 0.6737 - val_accuracy: 0.5900\n",
            "Epoch 14/40\n",
            "32/32 [==============================] - 1s 45ms/step - loss: 0.6575 - accuracy: 0.6195 - val_loss: 0.7010 - val_accuracy: 0.6260\n",
            "Epoch 15/40\n",
            "32/32 [==============================] - 1s 44ms/step - loss: 0.6938 - accuracy: 0.5960 - val_loss: 0.6710 - val_accuracy: 0.5940\n",
            "Epoch 16/40\n",
            "32/32 [==============================] - 1s 44ms/step - loss: 0.6602 - accuracy: 0.6230 - val_loss: 0.6535 - val_accuracy: 0.6320\n",
            "Epoch 17/40\n",
            "32/32 [==============================] - 1s 44ms/step - loss: 0.6742 - accuracy: 0.6225 - val_loss: 0.6578 - val_accuracy: 0.6340\n",
            "Epoch 18/40\n",
            "32/32 [==============================] - 1s 45ms/step - loss: 0.6452 - accuracy: 0.6335 - val_loss: 0.7295 - val_accuracy: 0.6460\n",
            "Epoch 19/40\n",
            "32/32 [==============================] - 1s 45ms/step - loss: 0.6764 - accuracy: 0.6340 - val_loss: 0.6317 - val_accuracy: 0.6640\n",
            "Epoch 20/40\n",
            "32/32 [==============================] - 1s 45ms/step - loss: 0.6365 - accuracy: 0.6480 - val_loss: 0.7835 - val_accuracy: 0.6700\n",
            "Epoch 21/40\n",
            "32/32 [==============================] - 1s 46ms/step - loss: 0.6483 - accuracy: 0.6390 - val_loss: 0.6583 - val_accuracy: 0.6200\n",
            "Epoch 22/40\n",
            "32/32 [==============================] - 1s 45ms/step - loss: 0.7044 - accuracy: 0.5760 - val_loss: 0.5981 - val_accuracy: 0.7120\n",
            "Epoch 23/40\n",
            "32/32 [==============================] - 1s 45ms/step - loss: 0.6674 - accuracy: 0.6285 - val_loss: 0.6848 - val_accuracy: 0.5820\n",
            "Epoch 24/40\n",
            "32/32 [==============================] - 1s 45ms/step - loss: 0.6644 - accuracy: 0.6590 - val_loss: 0.6823 - val_accuracy: 0.5720\n",
            "Epoch 25/40\n",
            "32/32 [==============================] - 1s 45ms/step - loss: 0.6283 - accuracy: 0.6565 - val_loss: 0.6695 - val_accuracy: 0.6180\n",
            "Epoch 26/40\n",
            "32/32 [==============================] - 1s 45ms/step - loss: 0.6563 - accuracy: 0.6835 - val_loss: 0.6536 - val_accuracy: 0.6420\n",
            "Epoch 27/40\n",
            "32/32 [==============================] - 1s 45ms/step - loss: 0.6030 - accuracy: 0.7160 - val_loss: 0.5165 - val_accuracy: 0.7580\n",
            "Epoch 28/40\n",
            "32/32 [==============================] - 1s 45ms/step - loss: 0.6156 - accuracy: 0.7080 - val_loss: 0.6401 - val_accuracy: 0.6880\n",
            "Epoch 29/40\n",
            "32/32 [==============================] - 1s 45ms/step - loss: 0.6002 - accuracy: 0.7150 - val_loss: 0.4793 - val_accuracy: 0.8020\n",
            "Epoch 30/40\n",
            "32/32 [==============================] - 1s 44ms/step - loss: 0.5523 - accuracy: 0.7540 - val_loss: 0.7405 - val_accuracy: 0.5820\n",
            "Epoch 31/40\n",
            "32/32 [==============================] - 1s 44ms/step - loss: 0.6678 - accuracy: 0.6165 - val_loss: 0.6316 - val_accuracy: 0.6580\n",
            "Epoch 32/40\n",
            "32/32 [==============================] - 1s 44ms/step - loss: 0.5717 - accuracy: 0.7355 - val_loss: 0.5646 - val_accuracy: 0.7400\n",
            "Epoch 33/40\n",
            "32/32 [==============================] - 1s 45ms/step - loss: 0.7504 - accuracy: 0.7230 - val_loss: 0.4664 - val_accuracy: 0.7780\n",
            "Epoch 34/40\n",
            "32/32 [==============================] - 1s 45ms/step - loss: 0.5022 - accuracy: 0.7680 - val_loss: 0.7359 - val_accuracy: 0.6160\n",
            "Epoch 35/40\n",
            "32/32 [==============================] - 1s 45ms/step - loss: 0.5879 - accuracy: 0.7330 - val_loss: 0.5988 - val_accuracy: 0.7280\n",
            "Epoch 36/40\n",
            "32/32 [==============================] - 1s 45ms/step - loss: 0.5345 - accuracy: 0.7630 - val_loss: 0.7118 - val_accuracy: 0.6240\n",
            "Epoch 37/40\n",
            "32/32 [==============================] - 1s 45ms/step - loss: 0.5609 - accuracy: 0.7400 - val_loss: 0.5323 - val_accuracy: 0.7740\n",
            "Epoch 38/40\n",
            "32/32 [==============================] - 1s 44ms/step - loss: 0.5667 - accuracy: 0.7470 - val_loss: 0.4619 - val_accuracy: 0.8120\n",
            "Epoch 39/40\n",
            "32/32 [==============================] - 1s 45ms/step - loss: 0.5184 - accuracy: 0.7695 - val_loss: 0.4645 - val_accuracy: 0.8140\n",
            "Epoch 40/40\n",
            "32/32 [==============================] - 1s 45ms/step - loss: 0.6134 - accuracy: 0.7535 - val_loss: 0.5756 - val_accuracy: 0.7180\n",
            "13/13 [==============================] - 0s 10ms/step - loss: 0.5562 - accuracy: 0.7475\n",
            "Evaluation result on Test Data : Loss = 0.5562434196472168, accuracy = 0.7475000023841858\n"
          ]
        }
      ]
    },
    {
      "cell_type": "code",
      "source": [
        "def plot_history(history):\n",
        "    #Plot the Loss Curves\n",
        "    plt.figure(figsize=[8,6])\n",
        "\n",
        "    plt.plot(history.history['loss'],'r',linewidth=3.0)\n",
        "    plt.plot(history.history['val_loss'],'b',linewidth=3.0)\n",
        "    \n",
        "    plt.legend(['Training loss', 'Validation Loss'],fontsize=18)\n",
        "    plt.xlabel('Epochs ',fontsize=16)\n",
        "    plt.ylabel('Loss',fontsize=16)\n",
        "    plt.title('Loss Curves',fontsize=16)\n",
        "    plt.show()\n",
        "    \n",
        "    #Plot the Accuracy Curves\n",
        "    plt.figure(figsize=[8,6])\n",
        "    \n",
        "    plt.plot(history.history['accuracy'], 'r', linewidth=3.0)\n",
        "    plt.plot(history.history['val_accuracy'], 'b',linewidth=3.0)\n",
        "    \n",
        "    plt.legend(['Training Accuracy', 'Validation Accuracy'],fontsize=18)\n",
        "    plt.xlabel('Epochs ',fontsize=16)\n",
        "    plt.ylabel('Accuracy',fontsize=16)\n",
        "    plt.title('Accuracy Curves',fontsize=16)\n",
        "    plt.show()\n",
        "\n",
        "plot_history(history)"
      ],
      "metadata": {
        "colab": {
          "base_uri": "https://localhost:8080/",
          "height": 805
        },
        "id": "wcNnqGDp0569",
        "outputId": "75ab4300-53df-4c22-9107-b186bf8316a7"
      },
      "execution_count": null,
      "outputs": [
        {
          "output_type": "display_data",
          "data": {
            "text/plain": [
              "<Figure size 576x432 with 1 Axes>"
            ],
            "image/png": "[encoded data removed]"
          },
          "metadata": {
            "needs_background": "light"
          }
        },
        {
          "output_type": "display_data",
          "data": {
            "text/plain": [
              "<Figure size 576x432 with 1 Axes>"
            ],
            "image/png": "[encoded data removed]"
          },
          "metadata": {
            "needs_background": "light"
          }
        }
      ]
    },
    {
      "cell_type": "code",
      "source": [],
      "metadata": {
        "id": "yXu5CEvX4U_s"
      },
      "execution_count": null,
      "outputs": []
    },
    {
      "cell_type": "markdown",
      "source": [
        "#CNN"
      ],
      "metadata": {
        "id": "3NNMHjXT4Vsc"
      }
    },
    {
      "cell_type": "code",
      "source": [
        "x_ = np.array([load_reshape_img(images_folder + fname) for fname in df_train_gender.index])\n",
        "X_train = x_.reshape(x_.shape[0], 218, 178, 3)\n",
        "\n",
        "x_v = np.array([load_reshape_img(images_folder + fname) for fname in df_valid_gender.index])\n",
        "X_valid = x_v.reshape(x_v.shape[0], 218, 178, 3)\n",
        "\n",
        "x_t = np.array([load_reshape_img(images_folder + fname) for fname in df_test_gender.index])\n",
        "X_test = x_t.reshape(x_t.shape[0], 218, 178, 3)"
      ],
      "metadata": {
        "id": "g9oCjqF8ipp8"
      },
      "execution_count": null,
      "outputs": []
    },
    {
      "cell_type": "code",
      "source": [
        "from tensorflow.keras.layers import Conv2D, MaxPooling2D, Flatten, BatchNormalization, Dropout\n",
        "\n"
      ],
      "metadata": {
        "id": "rdhYm6nH4VEx"
      },
      "execution_count": null,
      "outputs": []
    },
    {
      "cell_type": "code",
      "source": [
        "import tensorflow as tf\n",
        "\n",
        "model = tf.keras.Sequential()\n",
        "model.add(tf.keras.layers.Conv2D(128, (5,5), activation=\"relu\", padding=\"same\", input_shape=(218, 178, 3)))\n",
        "model.add(tf.keras.layers.MaxPooling2D((3,3)))\n",
        "# model.add(BatchNormalization())\n",
        "\n",
        "model.add(Conv2D(128, (3, 3), activation='relu', kernel_initializer='he_uniform', padding='same'))\n",
        "# model.add(BatchNormalization())\n",
        "model.add(MaxPooling2D ((3, 3)))\n",
        "model.add(Dropout(0.2))\n",
        "\n",
        "model.add(Conv2D(128, (3, 3), activation='relu', kernel_initializer='he_uniform', padding='same'))\n",
        "# model.add(BatchNormalization())\n",
        "model.add(MaxPooling2D ((3, 3)))\n",
        "model.add(Dropout(0.2))\n",
        "\n",
        "model.add(Conv2D(64, (3, 3), activation='relu', kernel_initializer='he_uniform', padding='same'))\n",
        "# model.add(BatchNormalization())\n",
        "model.add(MaxPooling2D ((3, 3)))\n",
        "model.add(Dropout(0.2))\n",
        "\n",
        "model.add(tf.keras.layers.Flatten())\n",
        "model.add(tf.keras.layers.Dense(2, activation=\"softmax\"))\n",
        "\n",
        "# compile model\n",
        "opt = keras.optimizers.SGD(lr=0.01, momentum=0.9)\n",
        "model.compile(\n",
        "    optimizer=opt,\n",
        "    loss='categorical_crossentropy',\n",
        "    metrics=['accuracy']\n",
        ")\n",
        "\n",
        "# fit model\n",
        "history = model.fit(\n",
        "    X_train,\n",
        "    y_train,\n",
        "    epochs=40,\n",
        "    batch_size=64,\n",
        "    validation_data=(X_valid, y_valid),\n",
        "    verbose=1\n",
        ")"
      ],
      "metadata": {
        "colab": {
          "base_uri": "https://localhost:8080/"
        },
        "id": "tFVoQq9Olk4Y",
        "outputId": "2d644cba-2d8e-4167-d9a9-83d6c29f5578"
      },
      "execution_count": null,
      "outputs": [
        {
          "output_type": "stream",
          "name": "stdout",
          "text": [
            "Epoch 1/40\n",
            "32/32 [==============================] - 7s 199ms/step - loss: 0.6900 - accuracy: 0.5650 - val_loss: 0.6844 - val_accuracy: 0.6680\n",
            "Epoch 2/40\n",
            "32/32 [==============================] - 6s 185ms/step - loss: 0.6779 - accuracy: 0.5805 - val_loss: 0.6756 - val_accuracy: 0.6820\n",
            "Epoch 3/40\n",
            "32/32 [==============================] - 6s 186ms/step - loss: 0.6654 - accuracy: 0.6095 - val_loss: 0.6520 - val_accuracy: 0.6480\n",
            "Epoch 4/40\n",
            "32/32 [==============================] - 6s 186ms/step - loss: 0.6491 - accuracy: 0.6140 - val_loss: 0.6118 - val_accuracy: 0.7200\n",
            "Epoch 5/40\n",
            "32/32 [==============================] - 6s 188ms/step - loss: 0.6165 - accuracy: 0.6630 - val_loss: 0.5844 - val_accuracy: 0.6900\n",
            "Epoch 6/40\n",
            "32/32 [==============================] - 6s 188ms/step - loss: 0.6043 - accuracy: 0.6730 - val_loss: 0.5554 - val_accuracy: 0.7400\n",
            "Epoch 7/40\n",
            "32/32 [==============================] - 6s 188ms/step - loss: 0.5757 - accuracy: 0.7070 - val_loss: 0.5354 - val_accuracy: 0.7440\n",
            "Epoch 8/40\n",
            "32/32 [==============================] - 6s 187ms/step - loss: 0.5767 - accuracy: 0.7000 - val_loss: 0.5448 - val_accuracy: 0.7440\n",
            "Epoch 9/40\n",
            "32/32 [==============================] - 6s 187ms/step - loss: 0.5579 - accuracy: 0.7130 - val_loss: 0.5423 - val_accuracy: 0.7440\n",
            "Epoch 10/40\n",
            "32/32 [==============================] - 6s 186ms/step - loss: 0.5471 - accuracy: 0.7255 - val_loss: 0.5265 - val_accuracy: 0.7340\n",
            "Epoch 11/40\n",
            "32/32 [==============================] - 6s 185ms/step - loss: 0.5269 - accuracy: 0.7390 - val_loss: 0.5168 - val_accuracy: 0.7600\n",
            "Epoch 12/40\n",
            "32/32 [==============================] - 6s 185ms/step - loss: 0.5264 - accuracy: 0.7420 - val_loss: 0.5000 - val_accuracy: 0.7620\n",
            "Epoch 13/40\n",
            "32/32 [==============================] - 6s 185ms/step - loss: 0.5136 - accuracy: 0.7490 - val_loss: 0.4857 - val_accuracy: 0.7600\n",
            "Epoch 14/40\n",
            "32/32 [==============================] - 6s 186ms/step - loss: 0.5056 - accuracy: 0.7500 - val_loss: 0.4952 - val_accuracy: 0.7680\n",
            "Epoch 15/40\n",
            "32/32 [==============================] - 6s 186ms/step - loss: 0.4962 - accuracy: 0.7595 - val_loss: 0.4839 - val_accuracy: 0.7940\n",
            "Epoch 16/40\n",
            "32/32 [==============================] - 6s 186ms/step - loss: 0.4825 - accuracy: 0.7690 - val_loss: 0.4661 - val_accuracy: 0.7820\n",
            "Epoch 17/40\n",
            "32/32 [==============================] - 6s 189ms/step - loss: 0.4772 - accuracy: 0.7750 - val_loss: 0.4582 - val_accuracy: 0.7720\n",
            "Epoch 18/40\n",
            "32/32 [==============================] - 6s 193ms/step - loss: 0.4677 - accuracy: 0.7760 - val_loss: 0.4365 - val_accuracy: 0.8020\n",
            "Epoch 19/40\n",
            "32/32 [==============================] - 6s 186ms/step - loss: 0.4484 - accuracy: 0.8000 - val_loss: 0.4377 - val_accuracy: 0.8180\n",
            "Epoch 20/40\n",
            "32/32 [==============================] - 6s 187ms/step - loss: 0.4292 - accuracy: 0.7915 - val_loss: 0.4770 - val_accuracy: 0.7520\n",
            "Epoch 21/40\n",
            "32/32 [==============================] - 6s 187ms/step - loss: 0.4354 - accuracy: 0.7955 - val_loss: 0.4627 - val_accuracy: 0.7720\n",
            "Epoch 22/40\n",
            "32/32 [==============================] - 6s 187ms/step - loss: 0.4131 - accuracy: 0.8170 - val_loss: 0.4840 - val_accuracy: 0.7500\n",
            "Epoch 23/40\n",
            "32/32 [==============================] - 6s 186ms/step - loss: 0.3905 - accuracy: 0.8195 - val_loss: 0.3670 - val_accuracy: 0.8620\n",
            "Epoch 24/40\n",
            "32/32 [==============================] - 6s 186ms/step - loss: 0.3427 - accuracy: 0.8650 - val_loss: 0.3681 - val_accuracy: 0.8360\n",
            "Epoch 25/40\n",
            "32/32 [==============================] - 6s 186ms/step - loss: 0.3351 - accuracy: 0.8565 - val_loss: 0.3432 - val_accuracy: 0.8600\n",
            "Epoch 26/40\n",
            "32/32 [==============================] - 6s 187ms/step - loss: 0.2960 - accuracy: 0.8740 - val_loss: 0.2830 - val_accuracy: 0.9080\n",
            "Epoch 27/40\n",
            "32/32 [==============================] - 7s 206ms/step - loss: 0.2786 - accuracy: 0.8795 - val_loss: 0.2688 - val_accuracy: 0.9020\n",
            "Epoch 28/40\n",
            "32/32 [==============================] - 6s 186ms/step - loss: 0.2725 - accuracy: 0.8865 - val_loss: 0.3353 - val_accuracy: 0.8340\n",
            "Epoch 29/40\n",
            "32/32 [==============================] - 6s 186ms/step - loss: 0.2389 - accuracy: 0.8960 - val_loss: 0.2399 - val_accuracy: 0.9100\n",
            "Epoch 30/40\n",
            "32/32 [==============================] - 6s 187ms/step - loss: 0.2259 - accuracy: 0.9015 - val_loss: 0.2279 - val_accuracy: 0.9180\n",
            "Epoch 31/40\n",
            "32/32 [==============================] - 6s 187ms/step - loss: 0.2101 - accuracy: 0.9115 - val_loss: 0.3676 - val_accuracy: 0.8160\n",
            "Epoch 32/40\n",
            "32/32 [==============================] - 6s 188ms/step - loss: 0.1977 - accuracy: 0.9170 - val_loss: 0.2213 - val_accuracy: 0.9200\n",
            "Epoch 33/40\n",
            "32/32 [==============================] - 6s 188ms/step - loss: 0.1659 - accuracy: 0.9340 - val_loss: 0.2158 - val_accuracy: 0.9160\n",
            "Epoch 34/40\n",
            "32/32 [==============================] - 6s 188ms/step - loss: 0.1671 - accuracy: 0.9345 - val_loss: 0.1881 - val_accuracy: 0.9380\n",
            "Epoch 35/40\n",
            "32/32 [==============================] - 6s 187ms/step - loss: 0.1567 - accuracy: 0.9355 - val_loss: 0.2008 - val_accuracy: 0.9320\n",
            "Epoch 36/40\n",
            "32/32 [==============================] - 6s 187ms/step - loss: 0.1482 - accuracy: 0.9350 - val_loss: 0.2000 - val_accuracy: 0.9300\n",
            "Epoch 37/40\n",
            "32/32 [==============================] - 7s 207ms/step - loss: 0.1392 - accuracy: 0.9440 - val_loss: 0.2054 - val_accuracy: 0.9360\n",
            "Epoch 38/40\n",
            "32/32 [==============================] - 6s 186ms/step - loss: 0.1565 - accuracy: 0.9375 - val_loss: 0.1899 - val_accuracy: 0.9420\n",
            "Epoch 39/40\n",
            "32/32 [==============================] - 6s 186ms/step - loss: 0.1369 - accuracy: 0.9455 - val_loss: 0.2161 - val_accuracy: 0.9240\n",
            "Epoch 40/40\n",
            "32/32 [==============================] - 6s 186ms/step - loss: 0.1437 - accuracy: 0.9375 - val_loss: 0.1812 - val_accuracy: 0.9340\n"
          ]
        }
      ]
    },
    {
      "cell_type": "code",
      "source": [
        "[test_loss, test_acc] = model.evaluate(X_test, y_test)\n",
        "print(f\"Evaluation result on Test Data : Loss = {test_loss}, accuracy = {test_acc}\")"
      ],
      "metadata": {
        "colab": {
          "base_uri": "https://localhost:8080/"
        },
        "id": "LQ-k3J9S4VJ4",
        "outputId": "a200b986-9f98-480b-ba7a-c2273871dc7b"
      },
      "execution_count": null,
      "outputs": [
        {
          "output_type": "stream",
          "name": "stdout",
          "text": [
            "13/13 [==============================] - 1s 49ms/step - loss: 0.2165 - accuracy: 0.9075\n",
            "Evaluation result on Test Data : Loss = 0.21653984487056732, accuracy = 0.9075000286102295\n"
          ]
        }
      ]
    },
    {
      "cell_type": "code",
      "source": [
        "def plot_history(history):\n",
        "    #Plot the Loss Curves\n",
        "    plt.figure(figsize=[8,6])\n",
        "\n",
        "    plt.plot(history.history['loss'],'r',linewidth=3.0)\n",
        "    plt.plot(history.history['val_loss'],'b',linewidth=3.0)\n",
        "    \n",
        "    plt.legend(['Training loss', 'Validation Loss'],fontsize=18)\n",
        "    plt.xlabel('Epochs ',fontsize=16)\n",
        "    plt.ylabel('Loss',fontsize=16)\n",
        "    plt.title('Loss Curves',fontsize=16)\n",
        "    plt.show()\n",
        "    \n",
        "    #Plot the Accuracy Curves\n",
        "    plt.figure(figsize=[8,6])\n",
        "    \n",
        "    plt.plot(history.history['accuracy'], 'r', linewidth=3.0)\n",
        "    plt.plot(history.history['val_accuracy'], 'b',linewidth=3.0)\n",
        "    \n",
        "    plt.legend(['Training Accuracy', 'Validation Accuracy'],fontsize=18)\n",
        "    plt.xlabel('Epochs ',fontsize=16)\n",
        "    plt.ylabel('Accuracy',fontsize=16)\n",
        "    plt.title('Accuracy Curves',fontsize=16)\n",
        "    plt.show()\n",
        "\n",
        "plot_history(history)"
      ],
      "metadata": {
        "colab": {
          "base_uri": "https://localhost:8080/",
          "height": 805
        },
        "id": "APvtOoBr4VMc",
        "outputId": "55e21197-3157-4758-9517-a7dbad38eecf"
      },
      "execution_count": null,
      "outputs": [
        {
          "output_type": "display_data",
          "data": {
            "text/plain": [
              "<Figure size 576x432 with 1 Axes>"
            ],
            "image/png": "[encoded data removed]"
          },
          "metadata": {
            "needs_background": "light"
          }
        },
        {
          "output_type": "display_data",
          "data": {
            "text/plain": [
              "<Figure size 576x432 with 1 Axes>"
            ],
            "image/png": "[encoded data removed]"
          },
          "metadata": {
            "needs_background": "light"
          }
        }
      ]
    },
    {
      "cell_type": "code",
      "source": [],
      "metadata": {
        "id": "ziWzGGIr4VPA"
      },
      "execution_count": null,
      "outputs": []
    },
    {
      "cell_type": "code",
      "source": [],
      "metadata": {
        "id": "i3uGox2r4VRX"
      },
      "execution_count": null,
      "outputs": []
    },
    {
      "cell_type": "code",
      "source": [],
      "metadata": {
        "id": "wUpbYEW04VUB"
      },
      "execution_count": null,
      "outputs": []
    },
    {
      "cell_type": "code",
      "source": [],
      "metadata": {
        "id": "YxkCrowu4VWF"
      },
      "execution_count": null,
      "outputs": []
    },
    {
      "cell_type": "code",
      "source": [],
      "metadata": {
        "id": "wIZaLlBl0599"
      },
      "execution_count": null,
      "outputs": []
    },
    {
      "cell_type": "code",
      "source": [],
      "metadata": {
        "id": "IfafZJuv06Aw"
      },
      "execution_count": null,
      "outputs": []
    },
    {
      "cell_type": "code",
      "source": [],
      "metadata": {
        "id": "UzGcNaY2WORB"
      },
      "execution_count": null,
      "outputs": []
    },
    {
      "cell_type": "code",
      "source": [],
      "metadata": {
        "id": "66r2A2UjnATU"
      },
      "execution_count": null,
      "outputs": []
    }
  ]
}